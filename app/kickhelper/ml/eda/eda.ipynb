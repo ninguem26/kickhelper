{
 "cells": [
  {
   "cell_type": "markdown",
   "metadata": {},
   "source": [
    "# EDA\n",
    "\n",
    "- Permite ao cientista tomar decisões críticas sobre o que é interessante perseguir, e assim construindo uma hipótese a partir do relacionamento entre as variáveis."
   ]
  },
  {
   "cell_type": "markdown",
   "metadata": {},
   "source": [
    "## Carregamento dos dados"
   ]
  },
  {
   "cell_type": "code",
   "execution_count": 1,
   "metadata": {},
   "outputs": [],
   "source": [
    "import pandas as pd"
   ]
  },
  {
   "cell_type": "code",
   "execution_count": 2,
   "metadata": {},
   "outputs": [],
   "source": [
    "ks = pd.read_csv('../../../datasets/ks-projects-201801.csv')\n",
    "ks = ks.sample(30000, random_state=42).reset_index().drop('index', axis=1)  # ~10%"
   ]
  },
  {
   "cell_type": "code",
   "execution_count": 3,
   "metadata": {},
   "outputs": [
    {
     "name": "stdout",
     "output_type": "stream",
     "text": [
      "Dataset Shape: (30000, 15)\n"
     ]
    },
    {
     "data": {
      "text/html": [
       "<div>\n",
       "<style scoped>\n",
       "    .dataframe tbody tr th:only-of-type {\n",
       "        vertical-align: middle;\n",
       "    }\n",
       "\n",
       "    .dataframe tbody tr th {\n",
       "        vertical-align: top;\n",
       "    }\n",
       "\n",
       "    .dataframe thead th {\n",
       "        text-align: right;\n",
       "    }\n",
       "</style>\n",
       "<table border=\"1\" class=\"dataframe\">\n",
       "  <thead>\n",
       "    <tr style=\"text-align: right;\">\n",
       "      <th></th>\n",
       "      <th>Name</th>\n",
       "      <th>dtypes</th>\n",
       "      <th>Missing</th>\n",
       "      <th>Uniques</th>\n",
       "      <th>First Value</th>\n",
       "      <th>Second Value</th>\n",
       "      <th>Third Value</th>\n",
       "      <th>Entropy</th>\n",
       "    </tr>\n",
       "  </thead>\n",
       "  <tbody>\n",
       "    <tr>\n",
       "      <td>0</td>\n",
       "      <td>ID</td>\n",
       "      <td>int64</td>\n",
       "      <td>0</td>\n",
       "      <td>30000</td>\n",
       "      <td>1576537356</td>\n",
       "      <td>675907016</td>\n",
       "      <td>361890770</td>\n",
       "      <td>14.87</td>\n",
       "    </tr>\n",
       "    <tr>\n",
       "      <td>1</td>\n",
       "      <td>name</td>\n",
       "      <td>object</td>\n",
       "      <td>0</td>\n",
       "      <td>29983</td>\n",
       "      <td>Deko</td>\n",
       "      <td>Westside BJ's: The Gluten-Free, Organic Food T...</td>\n",
       "      <td>Crepe Diem Food Truck</td>\n",
       "      <td>14.87</td>\n",
       "    </tr>\n",
       "    <tr>\n",
       "      <td>2</td>\n",
       "      <td>category</td>\n",
       "      <td>object</td>\n",
       "      <td>0</td>\n",
       "      <td>158</td>\n",
       "      <td>Hardware</td>\n",
       "      <td>Food Trucks</td>\n",
       "      <td>Food</td>\n",
       "      <td>6.26</td>\n",
       "    </tr>\n",
       "    <tr>\n",
       "      <td>3</td>\n",
       "      <td>main_category</td>\n",
       "      <td>object</td>\n",
       "      <td>0</td>\n",
       "      <td>15</td>\n",
       "      <td>Technology</td>\n",
       "      <td>Food</td>\n",
       "      <td>Food</td>\n",
       "      <td>3.57</td>\n",
       "    </tr>\n",
       "    <tr>\n",
       "      <td>4</td>\n",
       "      <td>currency</td>\n",
       "      <td>object</td>\n",
       "      <td>0</td>\n",
       "      <td>14</td>\n",
       "      <td>USD</td>\n",
       "      <td>USD</td>\n",
       "      <td>USD</td>\n",
       "      <td>1.28</td>\n",
       "    </tr>\n",
       "    <tr>\n",
       "      <td>5</td>\n",
       "      <td>deadline</td>\n",
       "      <td>object</td>\n",
       "      <td>0</td>\n",
       "      <td>2916</td>\n",
       "      <td>2015-10-24</td>\n",
       "      <td>2015-02-01</td>\n",
       "      <td>2014-01-17</td>\n",
       "      <td>11.23</td>\n",
       "    </tr>\n",
       "    <tr>\n",
       "      <td>6</td>\n",
       "      <td>goal</td>\n",
       "      <td>float64</td>\n",
       "      <td>0</td>\n",
       "      <td>1531</td>\n",
       "      <td>70000</td>\n",
       "      <td>250000</td>\n",
       "      <td>30000</td>\n",
       "      <td>6.55</td>\n",
       "    </tr>\n",
       "    <tr>\n",
       "      <td>7</td>\n",
       "      <td>launched</td>\n",
       "      <td>object</td>\n",
       "      <td>0</td>\n",
       "      <td>29997</td>\n",
       "      <td>2015-09-24 03:12:52</td>\n",
       "      <td>2015-01-02 20:55:07</td>\n",
       "      <td>2013-12-18 03:26:04</td>\n",
       "      <td>14.87</td>\n",
       "    </tr>\n",
       "    <tr>\n",
       "      <td>8</td>\n",
       "      <td>pledged</td>\n",
       "      <td>float64</td>\n",
       "      <td>0</td>\n",
       "      <td>10421</td>\n",
       "      <td>1888</td>\n",
       "      <td>1466</td>\n",
       "      <td>5723</td>\n",
       "      <td>10.72</td>\n",
       "    </tr>\n",
       "    <tr>\n",
       "      <td>9</td>\n",
       "      <td>state</td>\n",
       "      <td>object</td>\n",
       "      <td>0</td>\n",
       "      <td>6</td>\n",
       "      <td>failed</td>\n",
       "      <td>failed</td>\n",
       "      <td>failed</td>\n",
       "      <td>1.51</td>\n",
       "    </tr>\n",
       "    <tr>\n",
       "      <td>10</td>\n",
       "      <td>backers</td>\n",
       "      <td>int64</td>\n",
       "      <td>0</td>\n",
       "      <td>1223</td>\n",
       "      <td>41</td>\n",
       "      <td>9</td>\n",
       "      <td>90</td>\n",
       "      <td>6.57</td>\n",
       "    </tr>\n",
       "    <tr>\n",
       "      <td>11</td>\n",
       "      <td>country</td>\n",
       "      <td>object</td>\n",
       "      <td>0</td>\n",
       "      <td>23</td>\n",
       "      <td>US</td>\n",
       "      <td>US</td>\n",
       "      <td>US</td>\n",
       "      <td>1.47</td>\n",
       "    </tr>\n",
       "    <tr>\n",
       "      <td>12</td>\n",
       "      <td>usd pledged</td>\n",
       "      <td>float64</td>\n",
       "      <td>297</td>\n",
       "      <td>12854</td>\n",
       "      <td>1888</td>\n",
       "      <td>1466</td>\n",
       "      <td>5723</td>\n",
       "      <td>10.86</td>\n",
       "    </tr>\n",
       "    <tr>\n",
       "      <td>13</td>\n",
       "      <td>usd_pledged_real</td>\n",
       "      <td>float64</td>\n",
       "      <td>0</td>\n",
       "      <td>14056</td>\n",
       "      <td>1888</td>\n",
       "      <td>1466</td>\n",
       "      <td>5723</td>\n",
       "      <td>11.42</td>\n",
       "    </tr>\n",
       "    <tr>\n",
       "      <td>14</td>\n",
       "      <td>usd_goal_real</td>\n",
       "      <td>float64</td>\n",
       "      <td>0</td>\n",
       "      <td>7233</td>\n",
       "      <td>70000</td>\n",
       "      <td>250000</td>\n",
       "      <td>30000</td>\n",
       "      <td>8.56</td>\n",
       "    </tr>\n",
       "  </tbody>\n",
       "</table>\n",
       "</div>"
      ],
      "text/plain": [
       "                Name   dtypes  Missing  Uniques          First Value  \\\n",
       "0                 ID    int64        0    30000           1576537356   \n",
       "1               name   object        0    29983                 Deko   \n",
       "2           category   object        0      158             Hardware   \n",
       "3      main_category   object        0       15           Technology   \n",
       "4           currency   object        0       14                  USD   \n",
       "5           deadline   object        0     2916           2015-10-24   \n",
       "6               goal  float64        0     1531                70000   \n",
       "7           launched   object        0    29997  2015-09-24 03:12:52   \n",
       "8            pledged  float64        0    10421                 1888   \n",
       "9              state   object        0        6               failed   \n",
       "10           backers    int64        0     1223                   41   \n",
       "11           country   object        0       23                   US   \n",
       "12       usd pledged  float64      297    12854                 1888   \n",
       "13  usd_pledged_real  float64        0    14056                 1888   \n",
       "14     usd_goal_real  float64        0     7233                70000   \n",
       "\n",
       "                                         Second Value            Third Value  \\\n",
       "0                                           675907016              361890770   \n",
       "1   Westside BJ's: The Gluten-Free, Organic Food T...  Crepe Diem Food Truck   \n",
       "2                                         Food Trucks                   Food   \n",
       "3                                                Food                   Food   \n",
       "4                                                 USD                    USD   \n",
       "5                                          2015-02-01             2014-01-17   \n",
       "6                                              250000                  30000   \n",
       "7                                 2015-01-02 20:55:07    2013-12-18 03:26:04   \n",
       "8                                                1466                   5723   \n",
       "9                                              failed                 failed   \n",
       "10                                                  9                     90   \n",
       "11                                                 US                     US   \n",
       "12                                               1466                   5723   \n",
       "13                                               1466                   5723   \n",
       "14                                             250000                  30000   \n",
       "\n",
       "    Entropy  \n",
       "0     14.87  \n",
       "1     14.87  \n",
       "2      6.26  \n",
       "3      3.57  \n",
       "4      1.28  \n",
       "5     11.23  \n",
       "6      6.55  \n",
       "7     14.87  \n",
       "8     10.72  \n",
       "9      1.51  \n",
       "10     6.57  \n",
       "11     1.47  \n",
       "12    10.86  \n",
       "13    11.42  \n",
       "14     8.56  "
      ]
     },
     "execution_count": 3,
     "metadata": {},
     "output_type": "execute_result"
    }
   ],
   "source": [
    "from utils import *\n",
    "resumetable(ks)"
   ]
  },
  {
   "cell_type": "markdown",
   "metadata": {},
   "source": [
    "## Análise inicial"
   ]
  },
  {
   "cell_type": "markdown",
   "metadata": {},
   "source": [
    "- Quais colunas não são úteis se desejamos predizer o sucesso (ou não) de um projeto?\n",
    "  - De cara, sabemos que `ID` e `name` são desnecessárias.\n",
    "  - `category` tem 158 valores únicos, então pode ser importante para classificação.\n",
    "  - `main_category` com apenas 15 valores únicos talvez não seja útil sozinho, mas em combinação com outras features, como `category` pode importar mais.\n",
    "    - Igualmente para os atributos `currency` ou `country`. Um ou outro porque pode ser que estejam correlacionados, logo adicionando uma redundância desnecessária.\n",
    "  - `deadline`e `launched` são do formato `datetime`, podem ser úteis para indicar alguma tendência--por exemplo, melhor mês para iniciar/terminar o projeto.\n",
    "     - Também podem ser úteis para derivar dados, como `campaign_time = deadline - launched`\n",
    "  - `goal` e `pledged` estão na moeda indicada por `currency`, mas os atributos `usd_pledged_real` e `usd_goal_real` indicam a mesma coisa.\n",
    "     - `usd pledged` indica o mesmo que `usd_pledged_real`: convesão de `pledged` para dólar, só que feito pelo time do kickstarter. \n",
    "     - `usd_pledged_real` (e `pledged`) é quanto o projeto conseguiu arrecadar. Para predição isso é inválido pois não se sabe seu valor à priori.\n",
    "     - Sendo assim, podemos dropar `goal`, `pledged`, `usd pledged` e `usd_pledged_eal`.\n",
    "       - Todavia, apesar de não sabermos o valor arrecadado à priori, pode ser útil para indicar que tipos de projetos arrecadam menos.\n",
    "       - O mesmo vale para `backers`, que é quantos indivíduos ajudaram.\n",
    "       - Vale notar que `usd pledged` tem valores faltando.\n",
    "  - `state` é o resultado final, inicialmente dividido em 6 categorias: failed, canceled, successful, suspended, live, undefined.\n",
    "    - Podemos dropar os projetos `live` e `undefined`, e juntar os `canceled` e `suspended` para `failed`.\n",
    "    - No fim teremos apenas `successful` e `failed`."
   ]
  },
  {
   "cell_type": "markdown",
   "metadata": {},
   "source": [
    "## Limpeza"
   ]
  },
  {
   "cell_type": "markdown",
   "metadata": {},
   "source": [
    "### Dropando os mais óbvios\n",
    "\n",
    "- São: `ID`, `name`, porque não indicam nada relevante. `goal` e `pledged` porque temos `usd_pledged_real` e `usd_goal_real`. `usd pledged` pelo mesmo motivo anterior."
   ]
  },
  {
   "cell_type": "code",
   "execution_count": 4,
   "metadata": {},
   "outputs": [],
   "source": [
    "cols2drop = ['ID', 'name', 'goal', 'pledged', 'usd pledged',]\n",
    "ks.drop(cols2drop, axis=1, inplace=True)"
   ]
  },
  {
   "cell_type": "markdown",
   "metadata": {},
   "source": [
    "### Agregando `state` em duas categorias"
   ]
  },
  {
   "cell_type": "code",
   "execution_count": 5,
   "metadata": {},
   "outputs": [
    {
     "data": {
      "text/plain": [
       "state\n",
       "failed        18839\n",
       "successful    10691\n",
       "dtype: int64"
      ]
     },
     "execution_count": 5,
     "metadata": {},
     "output_type": "execute_result"
    }
   ],
   "source": [
    "ks = ks.query('state != \"live\" and state != \"undefined\"')\n",
    "ks['state'] = ks.state.where(ks.state == 'successful', 'failed')\n",
    "ks.groupby('state').size()"
   ]
  },
  {
   "cell_type": "markdown",
   "metadata": {},
   "source": [
    "- Talvez tenhamos um problema aí: temos quase o dobro de projetos falhos em relação a projetos bem sucedidos.\n",
    "- Lembre, no entanto, que estamos usando uma amostra de 10% de todo o dataset."
   ]
  },
  {
   "cell_type": "code",
   "execution_count": 6,
   "metadata": {},
   "outputs": [
    {
     "name": "stdout",
     "output_type": "stream",
     "text": [
      "Dataset Shape: (29530, 10)\n"
     ]
    },
    {
     "data": {
      "text/html": [
       "<div>\n",
       "<style scoped>\n",
       "    .dataframe tbody tr th:only-of-type {\n",
       "        vertical-align: middle;\n",
       "    }\n",
       "\n",
       "    .dataframe tbody tr th {\n",
       "        vertical-align: top;\n",
       "    }\n",
       "\n",
       "    .dataframe thead th {\n",
       "        text-align: right;\n",
       "    }\n",
       "</style>\n",
       "<table border=\"1\" class=\"dataframe\">\n",
       "  <thead>\n",
       "    <tr style=\"text-align: right;\">\n",
       "      <th></th>\n",
       "      <th>Name</th>\n",
       "      <th>dtypes</th>\n",
       "      <th>Missing</th>\n",
       "      <th>Uniques</th>\n",
       "      <th>First Value</th>\n",
       "      <th>Second Value</th>\n",
       "      <th>Third Value</th>\n",
       "      <th>Entropy</th>\n",
       "    </tr>\n",
       "  </thead>\n",
       "  <tbody>\n",
       "    <tr>\n",
       "      <td>0</td>\n",
       "      <td>category</td>\n",
       "      <td>object</td>\n",
       "      <td>0</td>\n",
       "      <td>158</td>\n",
       "      <td>Hardware</td>\n",
       "      <td>Food Trucks</td>\n",
       "      <td>Food</td>\n",
       "      <td>6.27</td>\n",
       "    </tr>\n",
       "    <tr>\n",
       "      <td>1</td>\n",
       "      <td>main_category</td>\n",
       "      <td>object</td>\n",
       "      <td>0</td>\n",
       "      <td>15</td>\n",
       "      <td>Technology</td>\n",
       "      <td>Food</td>\n",
       "      <td>Food</td>\n",
       "      <td>3.58</td>\n",
       "    </tr>\n",
       "    <tr>\n",
       "      <td>2</td>\n",
       "      <td>currency</td>\n",
       "      <td>object</td>\n",
       "      <td>0</td>\n",
       "      <td>14</td>\n",
       "      <td>USD</td>\n",
       "      <td>USD</td>\n",
       "      <td>USD</td>\n",
       "      <td>1.27</td>\n",
       "    </tr>\n",
       "    <tr>\n",
       "      <td>3</td>\n",
       "      <td>deadline</td>\n",
       "      <td>object</td>\n",
       "      <td>0</td>\n",
       "      <td>2886</td>\n",
       "      <td>2015-10-24</td>\n",
       "      <td>2015-02-01</td>\n",
       "      <td>2014-01-17</td>\n",
       "      <td>11.22</td>\n",
       "    </tr>\n",
       "    <tr>\n",
       "      <td>4</td>\n",
       "      <td>launched</td>\n",
       "      <td>object</td>\n",
       "      <td>0</td>\n",
       "      <td>29527</td>\n",
       "      <td>2015-09-24 03:12:52</td>\n",
       "      <td>2015-01-02 20:55:07</td>\n",
       "      <td>2013-12-18 03:26:04</td>\n",
       "      <td>14.85</td>\n",
       "    </tr>\n",
       "    <tr>\n",
       "      <td>5</td>\n",
       "      <td>state</td>\n",
       "      <td>object</td>\n",
       "      <td>0</td>\n",
       "      <td>2</td>\n",
       "      <td>failed</td>\n",
       "      <td>failed</td>\n",
       "      <td>failed</td>\n",
       "      <td>0.94</td>\n",
       "    </tr>\n",
       "    <tr>\n",
       "      <td>6</td>\n",
       "      <td>backers</td>\n",
       "      <td>int64</td>\n",
       "      <td>0</td>\n",
       "      <td>1220</td>\n",
       "      <td>41</td>\n",
       "      <td>9</td>\n",
       "      <td>90</td>\n",
       "      <td>6.61</td>\n",
       "    </tr>\n",
       "    <tr>\n",
       "      <td>7</td>\n",
       "      <td>country</td>\n",
       "      <td>object</td>\n",
       "      <td>0</td>\n",
       "      <td>23</td>\n",
       "      <td>US</td>\n",
       "      <td>US</td>\n",
       "      <td>US</td>\n",
       "      <td>1.40</td>\n",
       "    </tr>\n",
       "    <tr>\n",
       "      <td>8</td>\n",
       "      <td>usd_pledged_real</td>\n",
       "      <td>float64</td>\n",
       "      <td>0</td>\n",
       "      <td>13876</td>\n",
       "      <td>1888</td>\n",
       "      <td>1466</td>\n",
       "      <td>5723</td>\n",
       "      <td>11.42</td>\n",
       "    </tr>\n",
       "    <tr>\n",
       "      <td>9</td>\n",
       "      <td>usd_goal_real</td>\n",
       "      <td>float64</td>\n",
       "      <td>0</td>\n",
       "      <td>7092</td>\n",
       "      <td>70000</td>\n",
       "      <td>250000</td>\n",
       "      <td>30000</td>\n",
       "      <td>8.54</td>\n",
       "    </tr>\n",
       "  </tbody>\n",
       "</table>\n",
       "</div>"
      ],
      "text/plain": [
       "               Name   dtypes  Missing  Uniques          First Value  \\\n",
       "0          category   object        0      158             Hardware   \n",
       "1     main_category   object        0       15           Technology   \n",
       "2          currency   object        0       14                  USD   \n",
       "3          deadline   object        0     2886           2015-10-24   \n",
       "4          launched   object        0    29527  2015-09-24 03:12:52   \n",
       "5             state   object        0        2               failed   \n",
       "6           backers    int64        0     1220                   41   \n",
       "7           country   object        0       23                   US   \n",
       "8  usd_pledged_real  float64        0    13876                 1888   \n",
       "9     usd_goal_real  float64        0     7092                70000   \n",
       "\n",
       "          Second Value          Third Value  Entropy  \n",
       "0          Food Trucks                 Food     6.27  \n",
       "1                 Food                 Food     3.58  \n",
       "2                  USD                  USD     1.27  \n",
       "3           2015-02-01           2014-01-17    11.22  \n",
       "4  2015-01-02 20:55:07  2013-12-18 03:26:04    14.85  \n",
       "5               failed               failed     0.94  \n",
       "6                    9                   90     6.61  \n",
       "7                   US                   US     1.40  \n",
       "8                 1466                 5723    11.42  \n",
       "9               250000                30000     8.54  "
      ]
     },
     "execution_count": 6,
     "metadata": {},
     "output_type": "execute_result"
    }
   ],
   "source": [
    "resumetable(ks)"
   ]
  },
  {
   "cell_type": "markdown",
   "metadata": {},
   "source": [
    "### Derivando dias de campanha"
   ]
  },
  {
   "cell_type": "code",
   "execution_count": 7,
   "metadata": {},
   "outputs": [
    {
     "data": {
      "text/html": [
       "<div>\n",
       "<style scoped>\n",
       "    .dataframe tbody tr th:only-of-type {\n",
       "        vertical-align: middle;\n",
       "    }\n",
       "\n",
       "    .dataframe tbody tr th {\n",
       "        vertical-align: top;\n",
       "    }\n",
       "\n",
       "    .dataframe thead th {\n",
       "        text-align: right;\n",
       "    }\n",
       "</style>\n",
       "<table border=\"1\" class=\"dataframe\">\n",
       "  <thead>\n",
       "    <tr style=\"text-align: right;\">\n",
       "      <th></th>\n",
       "      <th>category</th>\n",
       "      <th>main_category</th>\n",
       "      <th>currency</th>\n",
       "      <th>deadline</th>\n",
       "      <th>launched</th>\n",
       "      <th>state</th>\n",
       "      <th>backers</th>\n",
       "      <th>country</th>\n",
       "      <th>usd_pledged_real</th>\n",
       "      <th>usd_goal_real</th>\n",
       "      <th>campaign_days</th>\n",
       "    </tr>\n",
       "  </thead>\n",
       "  <tbody>\n",
       "    <tr>\n",
       "      <td>0</td>\n",
       "      <td>Hardware</td>\n",
       "      <td>Technology</td>\n",
       "      <td>USD</td>\n",
       "      <td>2015-10-24</td>\n",
       "      <td>2015-09-24 03:12:52</td>\n",
       "      <td>failed</td>\n",
       "      <td>41</td>\n",
       "      <td>US</td>\n",
       "      <td>1888.0</td>\n",
       "      <td>70000.0</td>\n",
       "      <td>29</td>\n",
       "    </tr>\n",
       "    <tr>\n",
       "      <td>1</td>\n",
       "      <td>Food Trucks</td>\n",
       "      <td>Food</td>\n",
       "      <td>USD</td>\n",
       "      <td>2015-02-01</td>\n",
       "      <td>2015-01-02 20:55:07</td>\n",
       "      <td>failed</td>\n",
       "      <td>9</td>\n",
       "      <td>US</td>\n",
       "      <td>1466.0</td>\n",
       "      <td>250000.0</td>\n",
       "      <td>29</td>\n",
       "    </tr>\n",
       "    <tr>\n",
       "      <td>2</td>\n",
       "      <td>Food</td>\n",
       "      <td>Food</td>\n",
       "      <td>USD</td>\n",
       "      <td>2014-01-17</td>\n",
       "      <td>2013-12-18 03:26:04</td>\n",
       "      <td>failed</td>\n",
       "      <td>90</td>\n",
       "      <td>US</td>\n",
       "      <td>5723.0</td>\n",
       "      <td>30000.0</td>\n",
       "      <td>29</td>\n",
       "    </tr>\n",
       "  </tbody>\n",
       "</table>\n",
       "</div>"
      ],
      "text/plain": [
       "      category main_category currency   deadline            launched   state  \\\n",
       "0     Hardware    Technology      USD 2015-10-24 2015-09-24 03:12:52  failed   \n",
       "1  Food Trucks          Food      USD 2015-02-01 2015-01-02 20:55:07  failed   \n",
       "2         Food          Food      USD 2014-01-17 2013-12-18 03:26:04  failed   \n",
       "\n",
       "   backers country  usd_pledged_real  usd_goal_real  campaign_days  \n",
       "0       41      US            1888.0        70000.0             29  \n",
       "1        9      US            1466.0       250000.0             29  \n",
       "2       90      US            5723.0        30000.0             29  "
      ]
     },
     "execution_count": 7,
     "metadata": {},
     "output_type": "execute_result"
    }
   ],
   "source": [
    "# Primeiro vamos converter as colunas com datas\n",
    "\n",
    "ks['launched'] = pd.to_datetime(ks.launched)\n",
    "ks['deadline'] = pd.to_datetime(ks.deadline)\n",
    "ks['campaign_days'] = (ks.deadline - ks.launched).apply(lambda x: x.days)\n",
    "ks.head(3)"
   ]
  },
  {
   "cell_type": "markdown",
   "metadata": {},
   "source": [
    "- De cada data podemos obter o respectivo ano, mês e dia. São os dados que importam, e com eles podemos encontrar e visualizar possíveis relacionamento.\n",
    "  - Pensando melhor: não vejo porque importaria a data fim (`deadline`) aqui. É mais útil saber a data de ínicio do projeto, dado que pode haver alguma tendência no período.\n",
    "- As colunas originais podemos dropar."
   ]
  },
  {
   "cell_type": "code",
   "execution_count": 8,
   "metadata": {},
   "outputs": [
    {
     "data": {
      "text/html": [
       "<div>\n",
       "<style scoped>\n",
       "    .dataframe tbody tr th:only-of-type {\n",
       "        vertical-align: middle;\n",
       "    }\n",
       "\n",
       "    .dataframe tbody tr th {\n",
       "        vertical-align: top;\n",
       "    }\n",
       "\n",
       "    .dataframe thead th {\n",
       "        text-align: right;\n",
       "    }\n",
       "</style>\n",
       "<table border=\"1\" class=\"dataframe\">\n",
       "  <thead>\n",
       "    <tr style=\"text-align: right;\">\n",
       "      <th></th>\n",
       "      <th>category</th>\n",
       "      <th>main_category</th>\n",
       "      <th>currency</th>\n",
       "      <th>state</th>\n",
       "      <th>backers</th>\n",
       "      <th>country</th>\n",
       "      <th>usd_pledged_real</th>\n",
       "      <th>usd_goal_real</th>\n",
       "      <th>campaign_days</th>\n",
       "      <th>year</th>\n",
       "      <th>month</th>\n",
       "      <th>day</th>\n",
       "    </tr>\n",
       "  </thead>\n",
       "  <tbody>\n",
       "    <tr>\n",
       "      <td>0</td>\n",
       "      <td>Hardware</td>\n",
       "      <td>Technology</td>\n",
       "      <td>USD</td>\n",
       "      <td>failed</td>\n",
       "      <td>41</td>\n",
       "      <td>US</td>\n",
       "      <td>1888.00</td>\n",
       "      <td>70000.00</td>\n",
       "      <td>29</td>\n",
       "      <td>2015</td>\n",
       "      <td>9</td>\n",
       "      <td>24</td>\n",
       "    </tr>\n",
       "    <tr>\n",
       "      <td>1</td>\n",
       "      <td>Food Trucks</td>\n",
       "      <td>Food</td>\n",
       "      <td>USD</td>\n",
       "      <td>failed</td>\n",
       "      <td>9</td>\n",
       "      <td>US</td>\n",
       "      <td>1466.00</td>\n",
       "      <td>250000.00</td>\n",
       "      <td>29</td>\n",
       "      <td>2015</td>\n",
       "      <td>1</td>\n",
       "      <td>2</td>\n",
       "    </tr>\n",
       "    <tr>\n",
       "      <td>2</td>\n",
       "      <td>Food</td>\n",
       "      <td>Food</td>\n",
       "      <td>USD</td>\n",
       "      <td>failed</td>\n",
       "      <td>90</td>\n",
       "      <td>US</td>\n",
       "      <td>5723.00</td>\n",
       "      <td>30000.00</td>\n",
       "      <td>29</td>\n",
       "      <td>2013</td>\n",
       "      <td>12</td>\n",
       "      <td>18</td>\n",
       "    </tr>\n",
       "    <tr>\n",
       "      <td>3</td>\n",
       "      <td>Fiction</td>\n",
       "      <td>Publishing</td>\n",
       "      <td>GBP</td>\n",
       "      <td>failed</td>\n",
       "      <td>2</td>\n",
       "      <td>GB</td>\n",
       "      <td>31.09</td>\n",
       "      <td>6839.01</td>\n",
       "      <td>29</td>\n",
       "      <td>2016</td>\n",
       "      <td>10</td>\n",
       "      <td>24</td>\n",
       "    </tr>\n",
       "    <tr>\n",
       "      <td>4</td>\n",
       "      <td>Restaurants</td>\n",
       "      <td>Food</td>\n",
       "      <td>USD</td>\n",
       "      <td>failed</td>\n",
       "      <td>3</td>\n",
       "      <td>US</td>\n",
       "      <td>100.00</td>\n",
       "      <td>30000.00</td>\n",
       "      <td>59</td>\n",
       "      <td>2015</td>\n",
       "      <td>3</td>\n",
       "      <td>14</td>\n",
       "    </tr>\n",
       "  </tbody>\n",
       "</table>\n",
       "</div>"
      ],
      "text/plain": [
       "      category main_category currency   state  backers country  \\\n",
       "0     Hardware    Technology      USD  failed       41      US   \n",
       "1  Food Trucks          Food      USD  failed        9      US   \n",
       "2         Food          Food      USD  failed       90      US   \n",
       "3      Fiction    Publishing      GBP  failed        2      GB   \n",
       "4  Restaurants          Food      USD  failed        3      US   \n",
       "\n",
       "   usd_pledged_real  usd_goal_real  campaign_days  year  month  day  \n",
       "0           1888.00       70000.00             29  2015      9   24  \n",
       "1           1466.00      250000.00             29  2015      1    2  \n",
       "2           5723.00       30000.00             29  2013     12   18  \n",
       "3             31.09        6839.01             29  2016     10   24  \n",
       "4            100.00       30000.00             59  2015      3   14  "
      ]
     },
     "execution_count": 8,
     "metadata": {},
     "output_type": "execute_result"
    }
   ],
   "source": [
    "ks = ks.assign(year=ks.launched.dt.year,\n",
    "               month=ks.launched.dt.month,\n",
    "               day=ks.launched.dt.day).drop(['launched', 'deadline'], axis=1)\n",
    "ks.head(5)"
   ]
  },
  {
   "cell_type": "markdown",
   "metadata": {},
   "source": [
    "- Considerando que o objetivo da modelagem seja predizer o sucesso ou falha de um projeto, alguns dos atributos não são conhecidos à priori:\n",
    "  - `backers`\n",
    "  - `usd_pledged_real`\n",
    "  - `campaign_days`\n",
    "- Todavia isso não implica em que sejam inúteis; podem certamente ajudar a entender o comportamento de outras variáveis para com o objetivo."
   ]
  },
  {
   "cell_type": "markdown",
   "metadata": {},
   "source": [
    "### Aplicando um modelo básico: árvores de decisão\n",
    "\n",
    "- Primeiro prepararemos os dados, logo então aplicaremos o modelo."
   ]
  },
  {
   "cell_type": "code",
   "execution_count": 9,
   "metadata": {},
   "outputs": [
    {
     "name": "stdout",
     "output_type": "stream",
     "text": [
      "[0.98709268 0.98878544 0.98708721 0.98941575 0.98645216]\n"
     ]
    }
   ],
   "source": [
    "from sklearn.preprocessing import LabelEncoder\n",
    "from sklearn.model_selection import train_test_split\n",
    "from sklearn.model_selection import cross_val_score\n",
    "from sklearn.tree import DecisionTreeClassifier\n",
    "\n",
    "seed = 42  # Reproducidabilidade\n",
    "\n",
    "enc = LabelEncoder()\n",
    "cols2enc = ['category', 'main_category', 'currency', 'country']\n",
    "data = ks.copy()\n",
    "data[cols2enc] = ks[cols2enc].apply(enc.fit_transform)\n",
    "\n",
    "x_train, x_test, y_train, y_test = train_test_split(data.drop(['state'], axis=1), data.state, test_size=0.2, random_state=seed)\n",
    "clf = DecisionTreeClassifier(random_state=seed)\n",
    "score = cross_val_score(clf, x_train, y_train, cv=5, n_jobs=-1)\n",
    "print(score)"
   ]
  },
  {
   "cell_type": "code",
   "execution_count": 10,
   "metadata": {},
   "outputs": [
    {
     "name": "stdout",
     "output_type": "stream",
     "text": [
      "0.9889942431425669\n"
     ]
    }
   ],
   "source": [
    "from sklearn.metrics import accuracy_score\n",
    "\n",
    "clf = DecisionTreeClassifier(random_state=seed)\n",
    "clf.fit(x_train, y_train)\n",
    "y_pred = clf.predict(x_test)\n",
    "acc = accuracy_score(y_test, y_pred)\n",
    "print(acc)"
   ]
  },
  {
   "cell_type": "markdown",
   "metadata": {},
   "source": [
    "- Ótimo resultado, todavia usamos atributos que não temos à priori `usd_pledged_real`, `backers` e `campaign_days`. Vamos testar mais uma vez o modelo sem tais atributos."
   ]
  },
  {
   "cell_type": "code",
   "execution_count": 11,
   "metadata": {},
   "outputs": [
    {
     "name": "stdout",
     "output_type": "stream",
     "text": [
      "0.5944801896376566\n"
     ]
    }
   ],
   "source": [
    "data = ks.copy()\n",
    "\n",
    "data[cols2enc] = ks[cols2enc].apply(enc.fit_transform)\n",
    "data.drop(['backers', 'campaign_days', 'usd_pledged_real'], axis=1, inplace=True)\n",
    "\n",
    "x_train, x_test, y_train, y_test = train_test_split(data.drop(['state'], axis=1), data.state, test_size=0.2, random_state=seed)\n",
    "\n",
    "clf = DecisionTreeClassifier(random_state=seed)\n",
    "clf.fit(x_train, y_train)\n",
    "\n",
    "y_pred = clf.predict(x_test)\n",
    "acc = accuracy_score(y_test, y_pred)\n",
    "print(acc)"
   ]
  },
  {
   "cell_type": "markdown",
   "metadata": {},
   "source": [
    "- Pois é... esperado. A razão é simples: projetos falhos tem um `usd_pledged_real` obviamente muito menor do que os projetos sucedidos."
   ]
  },
  {
   "cell_type": "markdown",
   "metadata": {},
   "source": [
    "### Eliminando outliers\n",
    "\n",
    "- Podemos identificar outliers nas variáveis númericas utilizando de visualizações como **boxplot**."
   ]
  },
  {
   "cell_type": "code",
   "execution_count": 12,
   "metadata": {},
   "outputs": [],
   "source": [
    "import matplotlib.pyplot as plt\n",
    "import seaborn as sns\n",
    "%matplotlib inline"
   ]
  },
  {
   "cell_type": "code",
   "execution_count": 13,
   "metadata": {},
   "outputs": [
    {
     "data": {
      "text/plain": [
       "<matplotlib.axes._subplots.AxesSubplot at 0x7f8aae4e7390>"
      ]
     },
     "execution_count": 13,
     "metadata": {},
     "output_type": "execute_result"
    },
    {
     "data": {
      "image/png": "[encoded data removed]",
      "text/plain": [
       "<Figure size 432x288 with 1 Axes>"
      ]
     },
     "metadata": {
      "needs_background": "light"
     },
     "output_type": "display_data"
    }
   ],
   "source": [
    "sns.boxplot(x=ks.state, y=ks.usd_goal_real)"
   ]
  },
  {
   "cell_type": "markdown",
   "metadata": {},
   "source": [
    "- Aparentemente, projetos falhos exageram no objetivo. E isso **pode** ser útil para discriminar os projetos.\n",
    "- Quantas amostras são potenciais outliers no que tange o `usd_goal_real`? E qual a proporção delas para o resultado final `state`?"
   ]
  },
  {
   "cell_type": "code",
   "execution_count": 14,
   "metadata": {},
   "outputs": [
    {
     "name": "stdout",
     "output_type": "stream",
     "text": [
      "Failed projects proportion for usd_goal_real > 35728.49 =  0.87\n",
      "Successful projects proportion for usd_goal_real > 35728.49 =  0.13\n"
     ]
    }
   ],
   "source": [
    "Q1 = ks.usd_goal_real.quantile(0.25)\n",
    "Q3 = ks.usd_goal_real.quantile(0.75)\n",
    "IQR = Q3 - Q1\n",
    "thresh = Q3 + (IQR * 1.5)\n",
    "projects_above_thresh = ks.usd_goal_real > thresh\n",
    "n_failed = (ks[projects_above_thresh].state == 'failed').sum()\n",
    "n_successful = (ks[projects_above_thresh].state == 'successful').sum()\n",
    "print(f\"Failed projects proportion for usd_goal_real > {thresh:.2f} =  {n_failed/projects_above_thresh.sum():.2f}\")\n",
    "print(f\"Successful projects proportion for usd_goal_real > {thresh:.2f} =  {n_successful/projects_above_thresh.sum():.2f}\")"
   ]
  },
  {
   "cell_type": "markdown",
   "metadata": {},
   "source": [
    "- Podemos dizer que projetos exitosos são mais realistas no que diz respeito as suas metas.\n",
    "- Vamos tentar analisar quais categorias são mais exitosas ou não, e como se relacionam com seu objetivo."
   ]
  },
  {
   "cell_type": "markdown",
   "metadata": {},
   "source": [
    "### Mais visualizações"
   ]
  },
  {
   "cell_type": "code",
   "execution_count": 15,
   "metadata": {},
   "outputs": [
    {
     "name": "stdout",
     "output_type": "stream",
     "text": [
      "Dataset Shape: (29530, 12)\n"
     ]
    },
    {
     "data": {
      "text/html": [
       "<div>\n",
       "<style scoped>\n",
       "    .dataframe tbody tr th:only-of-type {\n",
       "        vertical-align: middle;\n",
       "    }\n",
       "\n",
       "    .dataframe tbody tr th {\n",
       "        vertical-align: top;\n",
       "    }\n",
       "\n",
       "    .dataframe thead th {\n",
       "        text-align: right;\n",
       "    }\n",
       "</style>\n",
       "<table border=\"1\" class=\"dataframe\">\n",
       "  <thead>\n",
       "    <tr style=\"text-align: right;\">\n",
       "      <th></th>\n",
       "      <th>Name</th>\n",
       "      <th>dtypes</th>\n",
       "      <th>Missing</th>\n",
       "      <th>Uniques</th>\n",
       "      <th>First Value</th>\n",
       "      <th>Second Value</th>\n",
       "      <th>Third Value</th>\n",
       "      <th>Entropy</th>\n",
       "    </tr>\n",
       "  </thead>\n",
       "  <tbody>\n",
       "    <tr>\n",
       "      <td>0</td>\n",
       "      <td>category</td>\n",
       "      <td>object</td>\n",
       "      <td>0</td>\n",
       "      <td>158</td>\n",
       "      <td>Hardware</td>\n",
       "      <td>Food Trucks</td>\n",
       "      <td>Food</td>\n",
       "      <td>6.27</td>\n",
       "    </tr>\n",
       "    <tr>\n",
       "      <td>1</td>\n",
       "      <td>main_category</td>\n",
       "      <td>object</td>\n",
       "      <td>0</td>\n",
       "      <td>15</td>\n",
       "      <td>Technology</td>\n",
       "      <td>Food</td>\n",
       "      <td>Food</td>\n",
       "      <td>3.58</td>\n",
       "    </tr>\n",
       "    <tr>\n",
       "      <td>2</td>\n",
       "      <td>currency</td>\n",
       "      <td>object</td>\n",
       "      <td>0</td>\n",
       "      <td>14</td>\n",
       "      <td>USD</td>\n",
       "      <td>USD</td>\n",
       "      <td>USD</td>\n",
       "      <td>1.27</td>\n",
       "    </tr>\n",
       "    <tr>\n",
       "      <td>3</td>\n",
       "      <td>state</td>\n",
       "      <td>object</td>\n",
       "      <td>0</td>\n",
       "      <td>2</td>\n",
       "      <td>failed</td>\n",
       "      <td>failed</td>\n",
       "      <td>failed</td>\n",
       "      <td>0.94</td>\n",
       "    </tr>\n",
       "    <tr>\n",
       "      <td>4</td>\n",
       "      <td>backers</td>\n",
       "      <td>int64</td>\n",
       "      <td>0</td>\n",
       "      <td>1220</td>\n",
       "      <td>41</td>\n",
       "      <td>9</td>\n",
       "      <td>90</td>\n",
       "      <td>6.61</td>\n",
       "    </tr>\n",
       "    <tr>\n",
       "      <td>5</td>\n",
       "      <td>country</td>\n",
       "      <td>object</td>\n",
       "      <td>0</td>\n",
       "      <td>23</td>\n",
       "      <td>US</td>\n",
       "      <td>US</td>\n",
       "      <td>US</td>\n",
       "      <td>1.40</td>\n",
       "    </tr>\n",
       "    <tr>\n",
       "      <td>6</td>\n",
       "      <td>usd_pledged_real</td>\n",
       "      <td>float64</td>\n",
       "      <td>0</td>\n",
       "      <td>13876</td>\n",
       "      <td>1888</td>\n",
       "      <td>1466</td>\n",
       "      <td>5723</td>\n",
       "      <td>11.42</td>\n",
       "    </tr>\n",
       "    <tr>\n",
       "      <td>7</td>\n",
       "      <td>usd_goal_real</td>\n",
       "      <td>float64</td>\n",
       "      <td>0</td>\n",
       "      <td>7092</td>\n",
       "      <td>70000</td>\n",
       "      <td>250000</td>\n",
       "      <td>30000</td>\n",
       "      <td>8.54</td>\n",
       "    </tr>\n",
       "    <tr>\n",
       "      <td>8</td>\n",
       "      <td>campaign_days</td>\n",
       "      <td>int64</td>\n",
       "      <td>0</td>\n",
       "      <td>92</td>\n",
       "      <td>29</td>\n",
       "      <td>29</td>\n",
       "      <td>29</td>\n",
       "      <td>3.80</td>\n",
       "    </tr>\n",
       "    <tr>\n",
       "      <td>9</td>\n",
       "      <td>year</td>\n",
       "      <td>int64</td>\n",
       "      <td>0</td>\n",
       "      <td>11</td>\n",
       "      <td>2015</td>\n",
       "      <td>2015</td>\n",
       "      <td>2013</td>\n",
       "      <td>2.87</td>\n",
       "    </tr>\n",
       "    <tr>\n",
       "      <td>10</td>\n",
       "      <td>month</td>\n",
       "      <td>int64</td>\n",
       "      <td>0</td>\n",
       "      <td>12</td>\n",
       "      <td>9</td>\n",
       "      <td>1</td>\n",
       "      <td>12</td>\n",
       "      <td>3.57</td>\n",
       "    </tr>\n",
       "    <tr>\n",
       "      <td>11</td>\n",
       "      <td>day</td>\n",
       "      <td>int64</td>\n",
       "      <td>0</td>\n",
       "      <td>31</td>\n",
       "      <td>24</td>\n",
       "      <td>2</td>\n",
       "      <td>18</td>\n",
       "      <td>4.94</td>\n",
       "    </tr>\n",
       "  </tbody>\n",
       "</table>\n",
       "</div>"
      ],
      "text/plain": [
       "                Name   dtypes  Missing  Uniques First Value Second Value  \\\n",
       "0           category   object        0      158    Hardware  Food Trucks   \n",
       "1      main_category   object        0       15  Technology         Food   \n",
       "2           currency   object        0       14         USD          USD   \n",
       "3              state   object        0        2      failed       failed   \n",
       "4            backers    int64        0     1220          41            9   \n",
       "5            country   object        0       23          US           US   \n",
       "6   usd_pledged_real  float64        0    13876        1888         1466   \n",
       "7      usd_goal_real  float64        0     7092       70000       250000   \n",
       "8      campaign_days    int64        0       92          29           29   \n",
       "9               year    int64        0       11        2015         2015   \n",
       "10             month    int64        0       12           9            1   \n",
       "11               day    int64        0       31          24            2   \n",
       "\n",
       "   Third Value  Entropy  \n",
       "0         Food     6.27  \n",
       "1         Food     3.58  \n",
       "2          USD     1.27  \n",
       "3       failed     0.94  \n",
       "4           90     6.61  \n",
       "5           US     1.40  \n",
       "6         5723    11.42  \n",
       "7        30000     8.54  \n",
       "8           29     3.80  \n",
       "9         2013     2.87  \n",
       "10          12     3.57  \n",
       "11          18     4.94  "
      ]
     },
     "execution_count": 15,
     "metadata": {},
     "output_type": "execute_result"
    }
   ],
   "source": [
    "resumetable(ks)"
   ]
  },
  {
   "cell_type": "code",
   "execution_count": 16,
   "metadata": {},
   "outputs": [
    {
     "data": {
      "image/png": "[encoded data removed]",
      "text/plain": [
       "<Figure size 864x432 with 1 Axes>"
      ]
     },
     "metadata": {
      "needs_background": "light"
     },
     "output_type": "display_data"
    }
   ],
   "source": [
    "plt.figure(figsize=(12, 6))\n",
    "g = sns.barplot(x='main_category', y='usd_goal_real', hue='state', data=ks)\n",
    "g = g.set_xticklabels(g.get_xticklabels(), rotation=45)\n",
    "\n",
    "mean_goal = ks.usd_goal_real.mean()\n",
    "unique_mc = ks.main_category.unique().size\n",
    "plt.plot(np.arange(unique_mc), [mean_goal] * unique_mc, '--r')\n",
    "plt.text(unique_mc - 4, mean_goal + 5000, f'Mean goal: {mean_goal:.2f}')\n",
    "plt.show()"
   ]
  },
  {
   "cell_type": "markdown",
   "metadata": {},
   "source": [
    "- Note que a categoria principal de tecnologia exagera muito no objetivo em relação as demais. Em segundo lugar, vem **games**. Depois **Filmes e Videos**.\n",
    "- Podemos ver como os países entram aí?"
   ]
  },
  {
   "cell_type": "code",
   "execution_count": 17,
   "metadata": {},
   "outputs": [
    {
     "data": {
      "image/png": "[encoded data removed]",
      "text/plain": [
       "<Figure size 1728x648 with 1 Axes>"
      ]
     },
     "metadata": {
      "needs_background": "light"
     },
     "output_type": "display_data"
    }
   ],
   "source": [
    "plt.figure(figsize=(24, 9))\n",
    "g = sns.barplot(x='country', y='usd_goal_real', hue='state', data=ks)\n",
    "g = g.set_xticklabels(g.get_xticklabels(), rotation=45)\n",
    "\n",
    "mean_goal = ks.usd_goal_real.mean()\n",
    "unique_countries = ks.country.unique().size\n",
    "plt.plot(np.arange(unique_countries), [mean_goal] * unique_countries, '--r')\n",
    "plt.text(unique_countries - 4, mean_goal + 7000, f'Mean goal: {mean_goal:.2f}')\n",
    "plt.show()"
   ]
  },
  {
   "cell_type": "markdown",
   "metadata": {},
   "source": [
    "- Razoável. Apenas algun saem *muit* da média: AU, NL, LU. "
   ]
  },
  {
   "cell_type": "markdown",
   "metadata": {},
   "source": [
    "- **Importante**: muitas amostras com razão pledged/goal > 1. Isso **pode** significar ruído?"
   ]
  },
  {
   "cell_type": "code",
   "execution_count": 18,
   "metadata": {},
   "outputs": [
    {
     "name": "stderr",
     "output_type": "stream",
     "text": [
      "/home/lativ/.virtualenvs/dl/lib/python3.7/site-packages/seaborn/axisgrid.py:715: UserWarning: Using the barplot function without specifying `order` is likely to produce an incorrect plot.\n",
      "  warnings.warn(warning)\n"
     ]
    },
    {
     "data": {
      "text/plain": [
       "<seaborn.axisgrid.FacetGrid at 0x7f8aaeba0bd0>"
      ]
     },
     "execution_count": 18,
     "metadata": {},
     "output_type": "execute_result"
    },
    {
     "data": {
      "image/png": "[encoded data removed]",
      "text/plain": [
       "<Figure size 1512x864 with 15 Axes>"
      ]
     },
     "metadata": {
      "needs_background": "light"
     },
     "output_type": "display_data"
    }
   ],
   "source": [
    "g = sns.FacetGrid(ks, col='main_category', col_wrap=7, height=4., aspect=.75)\n",
    "g.map(sns.barplot, \"state\", \"campaign_days\")"
   ]
  },
  {
   "cell_type": "markdown",
   "metadata": {},
   "source": [
    "### Drop country=N,0\""
   ]
  },
  {
   "cell_type": "code",
   "execution_count": 33,
   "metadata": {},
   "outputs": [],
   "source": [
    "ks = ks[(ks.country != 'N,0\"')]"
   ]
  },
  {
   "cell_type": "markdown",
   "metadata": {},
   "source": [
    "### One-hot encoding dos atributos categoricos"
   ]
  },
  {
   "cell_type": "code",
   "execution_count": 34,
   "metadata": {},
   "outputs": [
    {
     "name": "stdout",
     "output_type": "stream",
     "text": [
      "Dataset Shape: (29513, 12)\n"
     ]
    },
    {
     "data": {
      "text/html": [
       "<div>\n",
       "<style scoped>\n",
       "    .dataframe tbody tr th:only-of-type {\n",
       "        vertical-align: middle;\n",
       "    }\n",
       "\n",
       "    .dataframe tbody tr th {\n",
       "        vertical-align: top;\n",
       "    }\n",
       "\n",
       "    .dataframe thead th {\n",
       "        text-align: right;\n",
       "    }\n",
       "</style>\n",
       "<table border=\"1\" class=\"dataframe\">\n",
       "  <thead>\n",
       "    <tr style=\"text-align: right;\">\n",
       "      <th></th>\n",
       "      <th>Name</th>\n",
       "      <th>dtypes</th>\n",
       "      <th>Missing</th>\n",
       "      <th>Uniques</th>\n",
       "      <th>First Value</th>\n",
       "      <th>Second Value</th>\n",
       "      <th>Third Value</th>\n",
       "      <th>Entropy</th>\n",
       "    </tr>\n",
       "  </thead>\n",
       "  <tbody>\n",
       "    <tr>\n",
       "      <td>0</td>\n",
       "      <td>category</td>\n",
       "      <td>object</td>\n",
       "      <td>0</td>\n",
       "      <td>158</td>\n",
       "      <td>Hardware</td>\n",
       "      <td>Food Trucks</td>\n",
       "      <td>Food</td>\n",
       "      <td>6.27</td>\n",
       "    </tr>\n",
       "    <tr>\n",
       "      <td>1</td>\n",
       "      <td>main_category</td>\n",
       "      <td>object</td>\n",
       "      <td>0</td>\n",
       "      <td>15</td>\n",
       "      <td>Technology</td>\n",
       "      <td>Food</td>\n",
       "      <td>Food</td>\n",
       "      <td>3.58</td>\n",
       "    </tr>\n",
       "    <tr>\n",
       "      <td>2</td>\n",
       "      <td>currency</td>\n",
       "      <td>object</td>\n",
       "      <td>0</td>\n",
       "      <td>14</td>\n",
       "      <td>USD</td>\n",
       "      <td>USD</td>\n",
       "      <td>USD</td>\n",
       "      <td>1.27</td>\n",
       "    </tr>\n",
       "    <tr>\n",
       "      <td>3</td>\n",
       "      <td>state</td>\n",
       "      <td>object</td>\n",
       "      <td>0</td>\n",
       "      <td>2</td>\n",
       "      <td>failed</td>\n",
       "      <td>failed</td>\n",
       "      <td>failed</td>\n",
       "      <td>0.94</td>\n",
       "    </tr>\n",
       "    <tr>\n",
       "      <td>4</td>\n",
       "      <td>backers</td>\n",
       "      <td>int64</td>\n",
       "      <td>0</td>\n",
       "      <td>1220</td>\n",
       "      <td>41</td>\n",
       "      <td>9</td>\n",
       "      <td>90</td>\n",
       "      <td>6.62</td>\n",
       "    </tr>\n",
       "    <tr>\n",
       "      <td>5</td>\n",
       "      <td>country</td>\n",
       "      <td>object</td>\n",
       "      <td>0</td>\n",
       "      <td>22</td>\n",
       "      <td>US</td>\n",
       "      <td>US</td>\n",
       "      <td>US</td>\n",
       "      <td>1.40</td>\n",
       "    </tr>\n",
       "    <tr>\n",
       "      <td>6</td>\n",
       "      <td>usd_pledged_real</td>\n",
       "      <td>float64</td>\n",
       "      <td>0</td>\n",
       "      <td>13865</td>\n",
       "      <td>1888</td>\n",
       "      <td>1466</td>\n",
       "      <td>5723</td>\n",
       "      <td>11.42</td>\n",
       "    </tr>\n",
       "    <tr>\n",
       "      <td>7</td>\n",
       "      <td>usd_goal_real</td>\n",
       "      <td>float64</td>\n",
       "      <td>0</td>\n",
       "      <td>7087</td>\n",
       "      <td>70000</td>\n",
       "      <td>250000</td>\n",
       "      <td>30000</td>\n",
       "      <td>8.53</td>\n",
       "    </tr>\n",
       "    <tr>\n",
       "      <td>8</td>\n",
       "      <td>campaign_days</td>\n",
       "      <td>int64</td>\n",
       "      <td>0</td>\n",
       "      <td>92</td>\n",
       "      <td>29</td>\n",
       "      <td>29</td>\n",
       "      <td>29</td>\n",
       "      <td>3.80</td>\n",
       "    </tr>\n",
       "    <tr>\n",
       "      <td>9</td>\n",
       "      <td>year</td>\n",
       "      <td>int64</td>\n",
       "      <td>0</td>\n",
       "      <td>11</td>\n",
       "      <td>2015</td>\n",
       "      <td>2015</td>\n",
       "      <td>2013</td>\n",
       "      <td>2.87</td>\n",
       "    </tr>\n",
       "    <tr>\n",
       "      <td>10</td>\n",
       "      <td>month</td>\n",
       "      <td>int64</td>\n",
       "      <td>0</td>\n",
       "      <td>12</td>\n",
       "      <td>9</td>\n",
       "      <td>1</td>\n",
       "      <td>12</td>\n",
       "      <td>3.57</td>\n",
       "    </tr>\n",
       "    <tr>\n",
       "      <td>11</td>\n",
       "      <td>day</td>\n",
       "      <td>int64</td>\n",
       "      <td>0</td>\n",
       "      <td>31</td>\n",
       "      <td>24</td>\n",
       "      <td>2</td>\n",
       "      <td>18</td>\n",
       "      <td>4.94</td>\n",
       "    </tr>\n",
       "  </tbody>\n",
       "</table>\n",
       "</div>"
      ],
      "text/plain": [
       "                Name   dtypes  Missing  Uniques First Value Second Value  \\\n",
       "0           category   object        0      158    Hardware  Food Trucks   \n",
       "1      main_category   object        0       15  Technology         Food   \n",
       "2           currency   object        0       14         USD          USD   \n",
       "3              state   object        0        2      failed       failed   \n",
       "4            backers    int64        0     1220          41            9   \n",
       "5            country   object        0       22          US           US   \n",
       "6   usd_pledged_real  float64        0    13865        1888         1466   \n",
       "7      usd_goal_real  float64        0     7087       70000       250000   \n",
       "8      campaign_days    int64        0       92          29           29   \n",
       "9               year    int64        0       11        2015         2015   \n",
       "10             month    int64        0       12           9            1   \n",
       "11               day    int64        0       31          24            2   \n",
       "\n",
       "   Third Value  Entropy  \n",
       "0         Food     6.27  \n",
       "1         Food     3.58  \n",
       "2          USD     1.27  \n",
       "3       failed     0.94  \n",
       "4           90     6.62  \n",
       "5           US     1.40  \n",
       "6         5723    11.42  \n",
       "7        30000     8.53  \n",
       "8           29     3.80  \n",
       "9         2013     2.87  \n",
       "10          12     3.57  \n",
       "11          18     4.94  "
      ]
     },
     "execution_count": 34,
     "metadata": {},
     "output_type": "execute_result"
    }
   ],
   "source": [
    "resumetable(ks)"
   ]
  },
  {
   "cell_type": "code",
   "execution_count": 57,
   "metadata": {},
   "outputs": [
    {
     "data": {
      "text/plain": [
       "OneHotEncoder(categorical_features=None, categories=None, drop=None,\n",
       "              dtype=<class 'numpy.float64'>, handle_unknown='error',\n",
       "              n_values=None, sparse=False)"
      ]
     },
     "execution_count": 57,
     "metadata": {},
     "output_type": "execute_result"
    }
   ],
   "source": [
    "from sklearn.preprocessing import OneHotEncoder\n",
    "\n",
    "ohenc = OneHotEncoder(sparse=False)\n",
    "cols2enc = ['category', 'main_category', 'currency', 'country']\n",
    "ohenc.fit(ks[cols2enc])"
   ]
  },
  {
   "cell_type": "code",
   "execution_count": 58,
   "metadata": {},
   "outputs": [
    {
     "data": {
      "text/plain": [
       "[array(['3D Printing', 'Academic', 'Accessories', 'Action', 'Animals',\n",
       "        'Animation', 'Anthologies', 'Apparel', 'Apps', 'Architecture',\n",
       "        'Art', 'Art Books', 'Audio', 'Bacon', 'Blues', 'Calendars',\n",
       "        'Camera Equipment', 'Candles', 'Ceramics', \"Children's Books\",\n",
       "        'Childrenswear', 'Chiptune', 'Civic Design', 'Classical Music',\n",
       "        'Comedy', 'Comic Books', 'Comics', 'Community Gardens',\n",
       "        'Conceptual Art', 'Cookbooks', 'Country & Folk', 'Couture',\n",
       "        'Crafts', 'Crochet', 'DIY', 'DIY Electronics', 'Dance', 'Design',\n",
       "        'Digital Art', 'Documentary', 'Drama', 'Drinks',\n",
       "        'Electronic Music', 'Embroidery', 'Events', 'Experimental',\n",
       "        'Fabrication Tools', 'Faith', 'Family', 'Fantasy',\n",
       "        \"Farmer's Markets\", 'Farms', 'Fashion', 'Festivals', 'Fiction',\n",
       "        'Film & Video', 'Fine Art', 'Flight', 'Food', 'Food Trucks',\n",
       "        'Footwear', 'Gadgets', 'Games', 'Gaming Hardware', 'Glass',\n",
       "        'Graphic Design', 'Graphic Novels', 'Hardware', 'Hip-Hop',\n",
       "        'Horror', 'Illustration', 'Immersive', 'Indie Rock',\n",
       "        'Installations', 'Interactive Design', 'Jazz', 'Jewelry',\n",
       "        'Journalism', 'Kids', 'Knitting', 'Latin', 'Letterpress',\n",
       "        'Literary Journals', 'Literary Spaces', 'Live Games',\n",
       "        'Makerspaces', 'Metal', 'Mixed Media', 'Mobile Games',\n",
       "        'Movie Theaters', 'Music', 'Music Videos', 'Musical',\n",
       "        'Narrative Film', 'Nature', 'Nonfiction', 'Painting', 'People',\n",
       "        'Performance Art', 'Performances', 'Periodicals', 'Pet Fashion',\n",
       "        'Photo', 'Photobooks', 'Photography', 'Places', 'Playing Cards',\n",
       "        'Plays', 'Poetry', 'Pop', 'Pottery', 'Print', 'Printing',\n",
       "        'Product Design', 'Public Art', 'Publishing', 'Punk', 'Puzzles',\n",
       "        'Quilts', 'R&B', 'Radio & Podcasts', 'Ready-to-wear',\n",
       "        'Residencies', 'Restaurants', 'Robots', 'Rock', 'Romance',\n",
       "        'Science Fiction', 'Sculpture', 'Shorts', 'Small Batch',\n",
       "        'Software', 'Sound', 'Space Exploration', 'Spaces', 'Stationery',\n",
       "        'Tabletop Games', 'Technology', 'Television', 'Textiles',\n",
       "        'Theater', 'Thrillers', 'Translations', 'Typography', 'Vegan',\n",
       "        'Video', 'Video Art', 'Video Games', 'Wearables', 'Weaving', 'Web',\n",
       "        'Webcomics', 'Webseries', 'Woodworking', 'Workshops',\n",
       "        'World Music', 'Young Adult', 'Zines'], dtype=object),\n",
       " array(['Art', 'Comics', 'Crafts', 'Dance', 'Design', 'Fashion',\n",
       "        'Film & Video', 'Food', 'Games', 'Journalism', 'Music',\n",
       "        'Photography', 'Publishing', 'Technology', 'Theater'], dtype=object),\n",
       " array(['AUD', 'CAD', 'CHF', 'DKK', 'EUR', 'GBP', 'HKD', 'JPY', 'MXN',\n",
       "        'NOK', 'NZD', 'SEK', 'SGD', 'USD'], dtype=object),\n",
       " array(['AT', 'AU', 'BE', 'CA', 'CH', 'DE', 'DK', 'ES', 'FR', 'GB', 'HK',\n",
       "        'IE', 'IT', 'JP', 'LU', 'MX', 'NL', 'NO', 'NZ', 'SE', 'SG', 'US'],\n",
       "       dtype=object)]"
      ]
     },
     "execution_count": 58,
     "metadata": {},
     "output_type": "execute_result"
    }
   ],
   "source": [
    "ohenc.categories_"
   ]
  },
  {
   "cell_type": "code",
   "execution_count": 59,
   "metadata": {},
   "outputs": [
    {
     "data": {
      "text/plain": [
       "category           Hardware\n",
       "main_category    Technology\n",
       "currency                USD\n",
       "country                  US\n",
       "Name: 0, dtype: object"
      ]
     },
     "execution_count": 59,
     "metadata": {},
     "output_type": "execute_result"
    }
   ],
   "source": [
    "sample = ks[cols2enc].iloc[0]\n",
    "sample"
   ]
  },
  {
   "cell_type": "code",
   "execution_count": 60,
   "metadata": {},
   "outputs": [
    {
     "data": {
      "text/plain": [
       "array([['Hardware', 'Technology', 'USD', 'US']], dtype=object)"
      ]
     },
     "execution_count": 60,
     "metadata": {},
     "output_type": "execute_result"
    }
   ],
   "source": [
    "sample.values.reshape(1, -1)"
   ]
  },
  {
   "cell_type": "code",
   "execution_count": 61,
   "metadata": {},
   "outputs": [
    {
     "data": {
      "text/plain": [
       "array([[0., 0., 0., 0., 0., 0., 0., 0., 0., 0., 0., 0., 0., 0., 0., 0.,\n",
       "        0., 0., 0., 0., 0., 0., 0., 0., 0., 0., 0., 0., 0., 0., 0., 0.,\n",
       "        0., 0., 0., 0., 0., 0., 0., 0., 0., 0., 0., 0., 0., 0., 0., 0.,\n",
       "        0., 0., 0., 0., 0., 0., 0., 0., 0., 0., 0., 0., 0., 0., 0., 0.,\n",
       "        0., 0., 0., 1., 0., 0., 0., 0., 0., 0., 0., 0., 0., 0., 0., 0.,\n",
       "        0., 0., 0., 0., 0., 0., 0., 0., 0., 0., 0., 0., 0., 0., 0., 0.,\n",
       "        0., 0., 0., 0., 0., 0., 0., 0., 0., 0., 0., 0., 0., 0., 0., 0.,\n",
       "        0., 0., 0., 0., 0., 0., 0., 0., 0., 0., 0., 0., 0., 0., 0., 0.,\n",
       "        0., 0., 0., 0., 0., 0., 0., 0., 0., 0., 0., 0., 0., 0., 0., 0.,\n",
       "        0., 0., 0., 0., 0., 0., 0., 0., 0., 0., 0., 0., 0., 0., 0., 0.,\n",
       "        0., 0., 0., 0., 0., 0., 0., 0., 0., 0., 0., 1., 0., 0., 0., 0.,\n",
       "        0., 0., 0., 0., 0., 0., 0., 0., 0., 0., 1., 0., 0., 0., 0., 0.,\n",
       "        0., 0., 0., 0., 0., 0., 0., 0., 0., 0., 0., 0., 0., 0., 0., 0.,\n",
       "        1.]])"
      ]
     },
     "execution_count": 61,
     "metadata": {},
     "output_type": "execute_result"
    }
   ],
   "source": [
    "ohenc.transform(sample.values.reshape(1, -1))"
   ]
  },
  {
   "cell_type": "code",
   "execution_count": 90,
   "metadata": {},
   "outputs": [
    {
     "name": "stdout",
     "output_type": "stream",
     "text": [
      "(29513, 209)\n",
      "(29513, 8)\n",
      "(29513, 217)\n"
     ]
    }
   ],
   "source": [
    "encoded_categoricals = pd.DataFrame(ohenc.transform(ks[cols2enc]))\n",
    "print(encoded_categoricals.shape)\n",
    "data = ks.drop(cols2enc, axis=1)\n",
    "print(data.shape)\n",
    "data = data.join(encoded_categoricals)\n",
    "print(data.shape)"
   ]
  },
  {
   "cell_type": "code",
   "execution_count": 91,
   "metadata": {},
   "outputs": [],
   "source": [
    "# Well, I don't know yet why there are missing values \n",
    "data.dropna(inplace=True, axis=0)"
   ]
  },
  {
   "cell_type": "markdown",
   "metadata": {},
   "source": [
    "### Aplicando um modelo básico: MLP"
   ]
  },
  {
   "cell_type": "markdown",
   "metadata": {},
   "source": [
    "#### Preparando conjuntos"
   ]
  },
  {
   "cell_type": "code",
   "execution_count": 92,
   "metadata": {},
   "outputs": [],
   "source": [
    "cols2drop = ['backers', 'campaign_days', 'year', 'usd_pledged_real']\n",
    "data = data.drop(cols2drop, axis=1)\n",
    "data.reset_index(drop=True, inplace=True)\n",
    "\n",
    "x_train, x_test, y_train, y_test = train_test_split(data.drop(['state'], axis=1), data.state, test_size=0.2, random_state=seed)"
   ]
  },
  {
   "cell_type": "code",
   "execution_count": 93,
   "metadata": {},
   "outputs": [
    {
     "name": "stdout",
     "output_type": "stream",
     "text": [
      "Dataset Shape: (29044, 213)\n"
     ]
    },
    {
     "data": {
      "text/html": [
       "<div>\n",
       "<style scoped>\n",
       "    .dataframe tbody tr th:only-of-type {\n",
       "        vertical-align: middle;\n",
       "    }\n",
       "\n",
       "    .dataframe tbody tr th {\n",
       "        vertical-align: top;\n",
       "    }\n",
       "\n",
       "    .dataframe thead th {\n",
       "        text-align: right;\n",
       "    }\n",
       "</style>\n",
       "<table border=\"1\" class=\"dataframe\">\n",
       "  <thead>\n",
       "    <tr style=\"text-align: right;\">\n",
       "      <th></th>\n",
       "      <th>Name</th>\n",
       "      <th>dtypes</th>\n",
       "      <th>Missing</th>\n",
       "      <th>Uniques</th>\n",
       "      <th>First Value</th>\n",
       "      <th>Second Value</th>\n",
       "      <th>Third Value</th>\n",
       "      <th>Entropy</th>\n",
       "    </tr>\n",
       "  </thead>\n",
       "  <tbody>\n",
       "    <tr>\n",
       "      <td>0</td>\n",
       "      <td>state</td>\n",
       "      <td>object</td>\n",
       "      <td>0</td>\n",
       "      <td>2</td>\n",
       "      <td>failed</td>\n",
       "      <td>failed</td>\n",
       "      <td>failed</td>\n",
       "      <td>0.94</td>\n",
       "    </tr>\n",
       "    <tr>\n",
       "      <td>1</td>\n",
       "      <td>usd_goal_real</td>\n",
       "      <td>float64</td>\n",
       "      <td>0</td>\n",
       "      <td>6990</td>\n",
       "      <td>70000</td>\n",
       "      <td>250000</td>\n",
       "      <td>30000</td>\n",
       "      <td>8.53</td>\n",
       "    </tr>\n",
       "    <tr>\n",
       "      <td>2</td>\n",
       "      <td>month</td>\n",
       "      <td>int64</td>\n",
       "      <td>0</td>\n",
       "      <td>12</td>\n",
       "      <td>9</td>\n",
       "      <td>1</td>\n",
       "      <td>12</td>\n",
       "      <td>3.57</td>\n",
       "    </tr>\n",
       "    <tr>\n",
       "      <td>3</td>\n",
       "      <td>day</td>\n",
       "      <td>int64</td>\n",
       "      <td>0</td>\n",
       "      <td>31</td>\n",
       "      <td>24</td>\n",
       "      <td>2</td>\n",
       "      <td>18</td>\n",
       "      <td>4.94</td>\n",
       "    </tr>\n",
       "    <tr>\n",
       "      <td>4</td>\n",
       "      <td>0</td>\n",
       "      <td>float64</td>\n",
       "      <td>0</td>\n",
       "      <td>2</td>\n",
       "      <td>0</td>\n",
       "      <td>0</td>\n",
       "      <td>0</td>\n",
       "      <td>0.02</td>\n",
       "    </tr>\n",
       "    <tr>\n",
       "      <td>...</td>\n",
       "      <td>...</td>\n",
       "      <td>...</td>\n",
       "      <td>...</td>\n",
       "      <td>...</td>\n",
       "      <td>...</td>\n",
       "      <td>...</td>\n",
       "      <td>...</td>\n",
       "      <td>...</td>\n",
       "    </tr>\n",
       "    <tr>\n",
       "      <td>208</td>\n",
       "      <td>204</td>\n",
       "      <td>float64</td>\n",
       "      <td>0</td>\n",
       "      <td>2</td>\n",
       "      <td>0</td>\n",
       "      <td>0</td>\n",
       "      <td>0</td>\n",
       "      <td>0.02</td>\n",
       "    </tr>\n",
       "    <tr>\n",
       "      <td>209</td>\n",
       "      <td>205</td>\n",
       "      <td>float64</td>\n",
       "      <td>0</td>\n",
       "      <td>2</td>\n",
       "      <td>0</td>\n",
       "      <td>0</td>\n",
       "      <td>0</td>\n",
       "      <td>0.04</td>\n",
       "    </tr>\n",
       "    <tr>\n",
       "      <td>210</td>\n",
       "      <td>206</td>\n",
       "      <td>float64</td>\n",
       "      <td>0</td>\n",
       "      <td>2</td>\n",
       "      <td>0</td>\n",
       "      <td>0</td>\n",
       "      <td>0</td>\n",
       "      <td>0.05</td>\n",
       "    </tr>\n",
       "    <tr>\n",
       "      <td>211</td>\n",
       "      <td>207</td>\n",
       "      <td>float64</td>\n",
       "      <td>0</td>\n",
       "      <td>2</td>\n",
       "      <td>0</td>\n",
       "      <td>0</td>\n",
       "      <td>0</td>\n",
       "      <td>0.01</td>\n",
       "    </tr>\n",
       "    <tr>\n",
       "      <td>212</td>\n",
       "      <td>208</td>\n",
       "      <td>float64</td>\n",
       "      <td>0</td>\n",
       "      <td>2</td>\n",
       "      <td>1</td>\n",
       "      <td>1</td>\n",
       "      <td>1</td>\n",
       "      <td>0.75</td>\n",
       "    </tr>\n",
       "  </tbody>\n",
       "</table>\n",
       "<p>213 rows × 8 columns</p>\n",
       "</div>"
      ],
      "text/plain": [
       "              Name   dtypes  Missing  Uniques First Value Second Value  \\\n",
       "0            state   object        0        2      failed       failed   \n",
       "1    usd_goal_real  float64        0     6990       70000       250000   \n",
       "2            month    int64        0       12           9            1   \n",
       "3              day    int64        0       31          24            2   \n",
       "4                0  float64        0        2           0            0   \n",
       "..             ...      ...      ...      ...         ...          ...   \n",
       "208            204  float64        0        2           0            0   \n",
       "209            205  float64        0        2           0            0   \n",
       "210            206  float64        0        2           0            0   \n",
       "211            207  float64        0        2           0            0   \n",
       "212            208  float64        0        2           1            1   \n",
       "\n",
       "    Third Value  Entropy  \n",
       "0        failed     0.94  \n",
       "1         30000     8.53  \n",
       "2            12     3.57  \n",
       "3            18     4.94  \n",
       "4             0     0.02  \n",
       "..          ...      ...  \n",
       "208           0     0.02  \n",
       "209           0     0.04  \n",
       "210           0     0.05  \n",
       "211           0     0.01  \n",
       "212           1     0.75  \n",
       "\n",
       "[213 rows x 8 columns]"
      ]
     },
     "execution_count": 93,
     "metadata": {},
     "output_type": "execute_result"
    }
   ],
   "source": [
    "resumetable(data)"
   ]
  },
  {
   "cell_type": "code",
   "execution_count": 94,
   "metadata": {},
   "outputs": [
    {
     "name": "stdout",
     "output_type": "stream",
     "text": [
      "Basic MLP result: 0.622221304876305 (+/- 0.015047698557730338)\n"
     ]
    }
   ],
   "source": [
    "from sklearn.neural_network import MLPClassifier\n",
    "from sklearn.model_selection import cross_val_score\n",
    "\n",
    "scoring = 'roc_auc'\n",
    "n_folds = 10\n",
    "\n",
    "clf = MLPClassifier()\n",
    "\n",
    "results = cross_val_score(clf, x_train, y_train,\n",
    "                          cv=n_folds, scoring=scoring, n_jobs=6)\n",
    "print(f\"Basic MLP result: {results.mean()} (+/- {results.std()})\")"
   ]
  },
  {
   "cell_type": "code",
   "execution_count": 101,
   "metadata": {},
   "outputs": [
    {
     "data": {
      "text/plain": [
       "MLPClassifier(activation='logistic', alpha=0.0001, batch_size='auto',\n",
       "              beta_1=0.9, beta_2=0.999, early_stopping=False, epsilon=1e-08,\n",
       "              hidden_layer_sizes=(100,), learning_rate='constant',\n",
       "              learning_rate_init=0.001, max_iter=200, momentum=0.9,\n",
       "              n_iter_no_change=10, nesterovs_momentum=True, power_t=0.5,\n",
       "              random_state=None, shuffle=True, solver='adam', tol=0.0001,\n",
       "              validation_fraction=0.1, verbose=False, warm_start=False)"
      ]
     },
     "execution_count": 101,
     "metadata": {},
     "output_type": "execute_result"
    }
   ],
   "source": [
    "from sklearn.metrics import accuracy_score\n",
    "\n",
    "clf = MLPClassifier(activation='logistic')\n",
    "clf.fit(x_train, y_train)"
   ]
  },
  {
   "cell_type": "code",
   "execution_count": 102,
   "metadata": {},
   "outputs": [
    {
     "name": "stdout",
     "output_type": "stream",
     "text": [
      "0.6242038216560509\n"
     ]
    }
   ],
   "source": [
    "y_pred = clf.predict(x_test)\n",
    "score = accuracy_score(y_test, y_pred)\n",
    "print(score)"
   ]
  },
  {
   "cell_type": "markdown",
   "metadata": {},
   "source": [
    "### Aplicando um modelo básico: SVM"
   ]
  },
  {
   "cell_type": "code",
   "execution_count": 103,
   "metadata": {},
   "outputs": [
    {
     "name": "stdout",
     "output_type": "stream",
     "text": [
      "Basic SVC result: 0.5537466611502069 (+/- 0.014574033202600737)\n"
     ]
    }
   ],
   "source": [
    "from sklearn.svm import SVC\n",
    "\n",
    "scoring = 'roc_auc'\n",
    "n_folds = 10\n",
    "\n",
    "clf = SVC()\n",
    "\n",
    "results = cross_val_score(clf, x_train, y_train,\n",
    "                          cv=n_folds, scoring=scoring, n_jobs=6)\n",
    "print(f\"Basic SVC result: {results.mean()} (+/- {results.std()})\")"
   ]
  },
  {
   "cell_type": "code",
   "execution_count": 104,
   "metadata": {},
   "outputs": [
    {
     "name": "stderr",
     "output_type": "stream",
     "text": [
      "/home/lativ/.virtualenvs/dl/lib/python3.7/site-packages/sklearn/svm/base.py:193: FutureWarning: The default value of gamma will change from 'auto' to 'scale' in version 0.22 to account better for unscaled features. Set gamma explicitly to 'auto' or 'scale' to avoid this warning.\n",
      "  \"avoid this warning.\", FutureWarning)\n"
     ]
    },
    {
     "data": {
      "text/plain": [
       "SVC(C=1.0, cache_size=200, class_weight=None, coef0=0.0,\n",
       "    decision_function_shape='ovr', degree=3, gamma='auto_deprecated',\n",
       "    kernel='rbf', max_iter=-1, probability=False, random_state=None,\n",
       "    shrinking=True, tol=0.001, verbose=False)"
      ]
     },
     "execution_count": 104,
     "metadata": {},
     "output_type": "execute_result"
    }
   ],
   "source": [
    "clf = SVC()\n",
    "clf.fit(x_train, y_train)"
   ]
  },
  {
   "cell_type": "code",
   "execution_count": 105,
   "metadata": {},
   "outputs": [
    {
     "name": "stdout",
     "output_type": "stream",
     "text": [
      "0.6190394215871923\n"
     ]
    }
   ],
   "source": [
    "y_pred = clf.predict(x_test)\n",
    "score = accuracy_score(y_test, y_pred)\n",
    "print(score)"
   ]
  },
  {
   "cell_type": "markdown",
   "metadata": {},
   "source": [
    "### Aplicando um modelo básico: Naive Bayes"
   ]
  },
  {
   "cell_type": "code",
   "execution_count": 106,
   "metadata": {},
   "outputs": [
    {
     "name": "stdout",
     "output_type": "stream",
     "text": [
      "Basic SVC result: 0.5496155600909576 (+/- 0.010340116273336211)\n"
     ]
    }
   ],
   "source": [
    "from sklearn.naive_bayes import GaussianNB\n",
    "\n",
    "scoring = 'roc_auc'\n",
    "n_folds = 10\n",
    "\n",
    "clf = GaussianNB()\n",
    "\n",
    "results = cross_val_score(clf, x_train, y_train,\n",
    "                          cv=n_folds, scoring=scoring, n_jobs=6)\n",
    "print(f\"Basic SVC result: {results.mean()} (+/- {results.std()})\")"
   ]
  },
  {
   "cell_type": "code",
   "execution_count": 108,
   "metadata": {},
   "outputs": [
    {
     "data": {
      "text/plain": [
       "GaussianNB(priors=None, var_smoothing=1e-09)"
      ]
     },
     "execution_count": 108,
     "metadata": {},
     "output_type": "execute_result"
    }
   ],
   "source": [
    "clf = GaussianNB()\n",
    "clf.fit(x_train, y_train)"
   ]
  },
  {
   "cell_type": "code",
   "execution_count": 109,
   "metadata": {},
   "outputs": [
    {
     "name": "stdout",
     "output_type": "stream",
     "text": [
      "0.41866069891547597\n"
     ]
    }
   ],
   "source": [
    "y_pred = clf.predict(x_test)\n",
    "score = accuracy_score(y_test, y_pred)\n",
    "print(score)"
   ]
  },
  {
   "cell_type": "markdown",
   "metadata": {},
   "source": [
    "## Recursos\n",
    "\n",
    "- https://towardsdatascience.com/hitchhikers-guide-to-exploratory-data-analysis-6e8d896d3f7e"
   ]
  }
 ],
 "metadata": {
  "kernelspec": {
   "display_name": "Python 3",
   "language": "python",
   "name": "python3"
  },
  "language_info": {
   "codemirror_mode": {
    "name": "ipython",
    "version": 3
   },
   "file_extension": ".py",
   "mimetype": "text/x-python",
   "name": "python",
   "nbconvert_exporter": "python",
   "pygments_lexer": "ipython3",
   "version": "3.7.6"
  }
 },
 "nbformat": 4,
 "nbformat_minor": 4
}
